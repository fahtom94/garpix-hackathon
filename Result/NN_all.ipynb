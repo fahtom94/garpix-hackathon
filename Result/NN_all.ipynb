{
 "cells": [
  {
   "cell_type": "code",
   "execution_count": 1,
   "metadata": {
    "id": "uezSKK0f8aGB"
   },
   "outputs": [],
   "source": [
    "import copy\n",
    " \n",
    "import matplotlib.pyplot as plt\n",
    "import numpy as np\n",
    "import pandas as pd\n",
    "import torch\n",
    "import torch.nn as nn\n",
    "import torch.optim as optim\n",
    "import tqdm\n",
    "import seaborn as sns\n",
    "from sklearn.model_selection import train_test_split\n",
    "from sklearn.preprocessing import StandardScaler, MinMaxScaler\n",
    "from sklearn.metrics import r2_score"
   ]
  },
  {
   "cell_type": "code",
   "execution_count": 2,
   "metadata": {
    "scrolled": true
   },
   "outputs": [
    {
     "data": {
      "text/plain": [
       "0      81.72327\n",
       "1      51.56250\n",
       "2      64.24381\n",
       "3      67.29798\n",
       "4      58.26317\n",
       "         ...   \n",
       "620    76.74275\n",
       "622    83.18305\n",
       "625     0.00248\n",
       "626     0.00496\n",
       "627     0.02481\n",
       "Name: filling_space_percent, Length: 510, dtype: float64"
      ]
     },
     "execution_count": 2,
     "metadata": {},
     "output_type": "execute_result"
    }
   ],
   "source": [
    "df = pd.read_csv('loading_data_max.csv')\n",
    "df=df.drop_duplicates()\n",
    "\n",
    "X = df.drop(['filling_space_percent','density_percent'], axis=1)\n",
    "y = df['filling_space_percent']\n",
    "y"
   ]
  },
  {
   "cell_type": "code",
   "execution_count": 3,
   "metadata": {},
   "outputs": [
    {
     "data": {
      "text/plain": [
       "(510, 32)"
      ]
     },
     "execution_count": 3,
     "metadata": {},
     "output_type": "execute_result"
    }
   ],
   "source": [
    "X.shape"
   ]
  },
  {
   "cell_type": "code",
   "execution_count": 4,
   "metadata": {
    "id": "hr0EO7Ba8w8N"
   },
   "outputs": [],
   "source": [
    "# train-test split for model evaluation\n",
    "#X_train, X_test, y_train, y_test = train_test_split(X, y, train_size=0.8, shuffle=True)\n",
    "#X_train_raw, X_test_raw, y_train, y_test = train_test_split(X, y, train_size=0.8, shuffle=True,random_state=11)\n",
    "\n",
    "# Standardizing data\n",
    "scaler = MinMaxScaler()\n",
    "scaler.fit(X)\n",
    "X_train = scaler.transform(X)\n",
    "#X_test = scaler.transform(X_test_raw)\n",
    "\n",
    "# Convert to 2D PyTorch tensors\n",
    "X_train = torch.tensor(X_train, dtype=torch.float32)\n",
    "y_train = torch.tensor(y.values, dtype=torch.float32).reshape(-1, 1)\n",
    "# X_test = torch.tensor(X_test, dtype=torch.float32)\n",
    "# y_test = torch.tensor(y_test.values, dtype=torch.float32).reshape(-1, 1)\n",
    " \n"
   ]
  },
  {
   "cell_type": "code",
   "execution_count": 5,
   "metadata": {
    "id": "SSDrDN6f82cx"
   },
   "outputs": [],
   "source": [
    "# Define the model\n",
    "model = nn.Sequential(\n",
    "    nn.Linear(32, 500),\n",
    "    nn.ReLU(),\n",
    "    nn.Linear(500, 500),\n",
    "    nn.ReLU(),\n",
    "    nn.Linear(500, 500),\n",
    "    nn.ReLU(),\n",
    "    nn.Linear(500, 1)\n",
    "\n",
    ")\n",
    " \n",
    "# loss function and optimizer\n",
    "loss_fn = nn.MSELoss()  # mean square error\n",
    "optimizer = optim.Adam(model.parameters(), lr=0.0005)\n",
    " \n"
   ]
  },
  {
   "cell_type": "code",
   "execution_count": 7,
   "metadata": {
    "colab": {
     "base_uri": "https://localhost:8080/"
    },
    "id": "gqZKVw1G8-yh",
    "outputId": "afc430ff-4b5f-4a8e-d27a-3c1964c6bdbf"
   },
   "outputs": [
    {
     "name": "stdout",
     "output_type": "stream",
     "text": [
      "Epoch: 0 | R^2_NNRegressor: -4.4066 MSE:3191.2947\n",
      "Epoch: 50 | R^2_NNRegressor: 0.0642 MSE:552.3658\n",
      "Epoch: 100 | R^2_NNRegressor: 0.4770 MSE:308.6858\n",
      "Epoch: 150 | R^2_NNRegressor: 0.7122 MSE:169.8795\n",
      "Epoch: 200 | R^2_NNRegressor: 0.8104 MSE:111.9060\n",
      "Epoch: 250 | R^2_NNRegressor: 0.8528 MSE:86.9127\n",
      "Epoch: 300 | R^2_NNRegressor: 0.8693 MSE:77.1661\n",
      "Epoch: 350 | R^2_NNRegressor: 0.8797 MSE:70.9931\n",
      "Epoch: 400 | R^2_NNRegressor: 0.8882 MSE:66.0161\n",
      "Epoch: 450 | R^2_NNRegressor: 0.8962 MSE:61.2921\n",
      "Epoch: 500 | R^2_NNRegressor: 0.9041 MSE:56.6191\n",
      "Epoch: 550 | R^2_NNRegressor: 0.9115 MSE:52.2670\n",
      "Epoch: 600 | R^2_NNRegressor: 0.9180 MSE:48.4016\n",
      "Epoch: 650 | R^2_NNRegressor: 0.9240 MSE:44.8444\n",
      "Epoch: 700 | R^2_NNRegressor: 0.9298 MSE:41.4607\n",
      "Epoch: 750 | R^2_NNRegressor: 0.9356 MSE:38.0296\n",
      "Epoch: 800 | R^2_NNRegressor: 0.9416 MSE:34.4673\n",
      "Epoch: 850 | R^2_NNRegressor: 0.9471 MSE:31.1978\n",
      "Epoch: 900 | R^2_NNRegressor: 0.9529 MSE:27.8158\n",
      "Epoch: 950 | R^2_NNRegressor: 0.9575 MSE:25.0798\n",
      "Epoch: 1000 | R^2_NNRegressor: 0.9619 MSE:22.4852\n",
      "Epoch: 1050 | R^2_NNRegressor: 0.9652 MSE:20.5647\n",
      "Epoch: 1100 | R^2_NNRegressor: 0.9686 MSE:18.5495\n",
      "Epoch: 1150 | R^2_NNRegressor: 0.9703 MSE:17.5284\n",
      "Epoch: 1200 | R^2_NNRegressor: 0.9734 MSE:15.7069\n",
      "Epoch: 1250 | R^2_NNRegressor: 0.9753 MSE:14.5544\n",
      "Epoch: 1300 | R^2_NNRegressor: 0.9770 MSE:13.5783\n",
      "Epoch: 1350 | R^2_NNRegressor: 0.9790 MSE:12.4085\n",
      "Epoch: 1400 | R^2_NNRegressor: 0.9800 MSE:11.8103\n",
      "Epoch: 1450 | R^2_NNRegressor: 0.9815 MSE:10.9316\n",
      "Epoch: 1500 | R^2_NNRegressor: 0.9830 MSE:10.0147\n",
      "Epoch: 1550 | R^2_NNRegressor: 0.9847 MSE:9.0525\n",
      "Epoch: 1600 | R^2_NNRegressor: 0.9860 MSE:8.2395\n",
      "Epoch: 1650 | R^2_NNRegressor: 0.9875 MSE:7.3668\n",
      "Epoch: 1700 | R^2_NNRegressor: 0.9889 MSE:6.5705\n",
      "Epoch: 1750 | R^2_NNRegressor: 0.9882 MSE:6.9413\n",
      "Epoch: 1800 | R^2_NNRegressor: 0.9902 MSE:5.7587\n",
      "Epoch: 1850 | R^2_NNRegressor: 0.9890 MSE:6.4813\n",
      "Epoch: 1900 | R^2_NNRegressor: 0.9922 MSE:4.6289\n",
      "Epoch: 1950 | R^2_NNRegressor: 0.9927 MSE:4.2850\n",
      "Epoch: 2000 | R^2_NNRegressor: 0.9938 MSE:3.6551\n",
      "Epoch: 2050 | R^2_NNRegressor: 0.9945 MSE:3.2612\n",
      "Epoch: 2100 | R^2_NNRegressor: 0.9950 MSE:2.9797\n",
      "Epoch: 2150 | R^2_NNRegressor: 0.9941 MSE:3.5052\n",
      "Epoch: 2200 | R^2_NNRegressor: 0.9927 MSE:4.2825\n",
      "Epoch: 2250 | R^2_NNRegressor: 0.9959 MSE:2.4171\n",
      "Epoch: 2300 | R^2_NNRegressor: 0.9964 MSE:2.1240\n",
      "Epoch: 2350 | R^2_NNRegressor: 0.9945 MSE:3.2458\n",
      "Epoch: 2400 | R^2_NNRegressor: 0.9970 MSE:1.7475\n",
      "Epoch: 2450 | R^2_NNRegressor: 0.9975 MSE:1.4655\n",
      "Epoch: 2500 | R^2_NNRegressor: 0.9974 MSE:1.5424\n",
      "Epoch: 2550 | R^2_NNRegressor: 0.9957 MSE:2.5655\n",
      "Epoch: 2600 | R^2_NNRegressor: 0.9977 MSE:1.3410\n",
      "Epoch: 2650 | R^2_NNRegressor: 0.9953 MSE:2.7928\n",
      "Epoch: 2700 | R^2_NNRegressor: 0.9983 MSE:0.9868\n",
      "Epoch: 2750 | R^2_NNRegressor: 0.9984 MSE:0.9422\n",
      "Epoch: 2800 | R^2_NNRegressor: 0.9983 MSE:1.0203\n",
      "Epoch: 2850 | R^2_NNRegressor: 0.9987 MSE:0.7889\n",
      "Epoch: 2900 | R^2_NNRegressor: 0.9983 MSE:1.0237\n",
      "Epoch: 2950 | R^2_NNRegressor: 0.9988 MSE:0.6896\n",
      "Epoch: 3000 | R^2_NNRegressor: 0.9986 MSE:0.8047\n",
      "Epoch: 3050 | R^2_NNRegressor: 0.9986 MSE:0.8488\n",
      "Epoch: 3100 | R^2_NNRegressor: 0.9990 MSE:0.5826\n",
      "Epoch: 3150 | R^2_NNRegressor: 0.9990 MSE:0.5667\n",
      "Epoch: 3200 | R^2_NNRegressor: 0.9989 MSE:0.6264\n",
      "Epoch: 3250 | R^2_NNRegressor: 0.9983 MSE:1.0074\n",
      "Epoch: 3300 | R^2_NNRegressor: 0.9992 MSE:0.4878\n",
      "Epoch: 3350 | R^2_NNRegressor: 0.9984 MSE:0.9170\n",
      "Epoch: 3400 | R^2_NNRegressor: 0.9993 MSE:0.4348\n",
      "Epoch: 3450 | R^2_NNRegressor: 0.9993 MSE:0.4367\n",
      "Epoch: 3500 | R^2_NNRegressor: 0.9984 MSE:0.9257\n",
      "Epoch: 3550 | R^2_NNRegressor: 0.9994 MSE:0.3695\n",
      "Epoch: 3600 | R^2_NNRegressor: 0.9992 MSE:0.4530\n",
      "Epoch: 3650 | R^2_NNRegressor: 0.9986 MSE:0.8125\n",
      "Epoch: 3700 | R^2_NNRegressor: 0.9994 MSE:0.3407\n",
      "Epoch: 3750 | R^2_NNRegressor: 0.9955 MSE:2.6482\n",
      "Epoch: 3800 | R^2_NNRegressor: 0.9994 MSE:0.3497\n",
      "Epoch: 3850 | R^2_NNRegressor: 0.9995 MSE:0.2857\n",
      "Epoch: 3900 | R^2_NNRegressor: 0.9995 MSE:0.2753\n",
      "Epoch: 3950 | R^2_NNRegressor: 0.9995 MSE:0.2944\n"
     ]
    }
   ],
   "source": [
    "n_epochs = 4000   # number of epochs to run\n",
    "batch_size = 510  # size of each batch\n",
    "batch_start = torch.arange(0, len(X_train), batch_size)\n",
    " \n",
    "# Hold the best model\n",
    "best_mse = np.inf   # init to infinity\n",
    "best_weights = None\n",
    "history = []\n",
    " \n",
    "for epoch in range(n_epochs):\n",
    "    model.train()\n",
    "    with tqdm.tqdm(batch_start, unit=\"batch\", mininterval=0, disable=True) as bar:\n",
    "        bar.set_description(f\"Epoch {epoch}\")\n",
    "        for start in bar:\n",
    "            # take a batch\n",
    "            X_batch = X_train[start:start+batch_size]\n",
    "            y_batch = y_train[start:start+batch_size]\n",
    "            # forward pass\n",
    "            y_pred = model(X_batch)\n",
    "            loss = loss_fn(y_pred, y_batch)\n",
    "            # backward pass\n",
    "            optimizer.zero_grad()\n",
    "            loss.backward()\n",
    "            # update weights\n",
    "            optimizer.step()\n",
    "            # print progress\n",
    "            bar.set_postfix(mse=float(loss))\n",
    "    # evaluate accuracy at end of each epoch\n",
    "    model.eval()\n",
    "    y_pred = model(X_train)\n",
    "    mse = loss_fn(y_pred, y_train)\n",
    "    mse = float(mse)\n",
    "    history.append(mse)\n",
    "    if mse < best_mse:\n",
    "        best_mse = mse\n",
    "        best_weights = copy.deepcopy(model.state_dict())\n",
    "    if epoch % 50 == 0:\n",
    "        print(f'Epoch: {epoch} | R^2_NNRegressor: {r2_score(y_train.detach().numpy(), y_pred.detach().numpy()):.4f} MSE:{mse:.4f}')\n"
   ]
  },
  {
   "cell_type": "code",
   "execution_count": 8,
   "metadata": {
    "colab": {
     "base_uri": "https://localhost:8080/",
     "height": 465
    },
    "id": "_OMFb-Rq9ELi",
    "outputId": "bd8886e6-cc2a-4a48-a7c1-bb6905c0fb3c",
    "scrolled": true
   },
   "outputs": [
    {
     "name": "stdout",
     "output_type": "stream",
     "text": [
      "MSE: 0.26\n",
      "RMSE: 0.51\n"
     ]
    },
    {
     "data": {
      "image/png": "[encoded data removed]",
      "text/plain": [
       "<Figure size 640x480 with 1 Axes>"
      ]
     },
     "metadata": {},
     "output_type": "display_data"
    }
   ],
   "source": [
    "# restore model and return best accuracy\n",
    "model.load_state_dict(best_weights)\n",
    "print(\"MSE: %.2f\" % best_mse)\n",
    "print(\"RMSE: %.2f\" % np.sqrt(best_mse))\n",
    "plt.plot(history)\n",
    "plt.show()"
   ]
  },
  {
   "cell_type": "code",
   "execution_count": 9,
   "metadata": {},
   "outputs": [],
   "source": [
    "torch.save(model.state_dict(), 'NN_model_weights.pth')"
   ]
  },
  {
   "cell_type": "code",
   "execution_count": null,
   "metadata": {},
   "outputs": [],
   "source": []
  }
 ],
 "metadata": {
  "colab": {
   "provenance": []
  },
  "kernelspec": {
   "display_name": "Python 3 (ipykernel)",
   "language": "python",
   "name": "python3"
  },
  "language_info": {
   "codemirror_mode": {
    "name": "ipython",
    "version": 3
   },
   "file_extension": ".py",
   "mimetype": "text/x-python",
   "name": "python",
   "nbconvert_exporter": "python",
   "pygments_lexer": "ipython3",
   "version": "3.9.13"
  }
 },
 "nbformat": 4,
 "nbformat_minor": 1
}
