{
 "cells": [
  {
   "cell_type": "code",
   "execution_count": null,
   "metadata": {
    "id": "uezSKK0f8aGB"
   },
   "outputs": [],
   "source": [
    "import copy\n",
    " \n",
    "import matplotlib.pyplot as plt\n",
    "import numpy as np\n",
    "import pandas as pd\n",
    "import torch\n",
    "import torch.nn as nn\n",
    "import torch.optim as optim\n",
    "import tqdm\n",
    "\n",
    "from sklearn.model_selection import train_test_split\n",
    "from sklearn.preprocessing import StandardScaler\n",
    "from sklearn.metrics import r2_score"
   ]
  },
  {
   "cell_type": "code",
   "execution_count": null,
   "metadata": {
    "colab": {
     "base_uri": "https://localhost:8080/"
    },
    "id": "9wgeYYL-8jr4",
    "outputId": "4b1a5b08-0bd7-4f6f-f10a-872dbb880101"
   },
   "outputs": [
    {
     "data": {
      "text/plain": [
       "0      0.817233\n",
       "1      0.515625\n",
       "2      0.642438\n",
       "3      0.672980\n",
       "4      0.582632\n",
       "         ...   \n",
       "622    0.767428\n",
       "623    0.831830\n",
       "624    0.000025\n",
       "625    0.000050\n",
       "626    0.000248\n",
       "Name: filling_space_percent, Length: 627, dtype: float64"
      ]
     },
     "execution_count": 8,
     "metadata": {},
     "output_type": "execute_result"
    }
   ],
   "source": [
    "# Read data\n",
    "#data = fetch_california_housing()\n",
    "#X, y = data.data, data.target\n",
    "df = pd.read_csv('sample_data/loading_norm_data.csv')\n",
    "\n",
    "X, y = df.drop(\"filling_space_percent\", axis=1), df['filling_space_percent']/100\n",
    "y"
   ]
  },
  {
   "cell_type": "code",
   "execution_count": null,
   "metadata": {
    "id": "hr0EO7Ba8w8N"
   },
   "outputs": [],
   "source": [
    "# train-test split for model evaluation\n",
    "#X_train, X_test, y_train, y_test = train_test_split(X, y, train_size=0.8, shuffle=True)\n",
    "X_train_raw, X_test_raw, y_train, y_test = train_test_split(X, y, train_size=0.8, shuffle=True)\n",
    "\n",
    "# Standardizing data\n",
    "scaler = StandardScaler()\n",
    "scaler.fit(X_train_raw)\n",
    "X_train = scaler.transform(X_train_raw)\n",
    "X_test = scaler.transform(X_test_raw)\n",
    "\n",
    "# Convert to 2D PyTorch tensors\n",
    "'''X_train = torch.tensor(X_train.values, dtype=torch.float32)\n",
    "y_train = torch.tensor(y_train.values, dtype=torch.float32).reshape(-1, 1)\n",
    "X_test = torch.tensor(X_test.values, dtype=torch.float32)\n",
    "y_test = torch.tensor(y_test.values, dtype=torch.float32).reshape(-1, 1)'''\n",
    "\n",
    "X_train = torch.tensor(X_train, dtype=torch.float32)\n",
    "y_train = torch.tensor(y_train.values, dtype=torch.float32).reshape(-1, 1)\n",
    "X_test = torch.tensor(X_test, dtype=torch.float32)\n",
    "y_test = torch.tensor(y_test.values, dtype=torch.float32).reshape(-1, 1)\n",
    " \n"
   ]
  },
  {
   "cell_type": "code",
   "execution_count": null,
   "metadata": {
    "id": "SSDrDN6f82cx"
   },
   "outputs": [],
   "source": [
    "# Define the model\n",
    "model = nn.Sequential(\n",
    "    nn.Linear(7, 24),\n",
    "    nn.ReLU(),\n",
    "    nn.Linear(24, 12),\n",
    "    nn.ReLU(),\n",
    "    nn.Linear(12, 6),\n",
    "    nn.ReLU(),\n",
    "    nn.Linear(6, 1)\n",
    ")\n",
    " \n",
    "# loss function and optimizer\n",
    "loss_fn = nn.MSELoss()  # mean square error\n",
    "optimizer = optim.Adam(model.parameters(), lr=0.01)\n",
    " \n"
   ]
  },
  {
   "cell_type": "code",
   "execution_count": null,
   "metadata": {
    "colab": {
     "base_uri": "https://localhost:8080/"
    },
    "id": "gqZKVw1G8-yh",
    "outputId": "afc430ff-4b5f-4a8e-d27a-3c1964c6bdbf"
   },
   "outputs": [
    {
     "name": "stdout",
     "output_type": "stream",
     "text": [
      "Epoch: 0 | R^2_NNRegressor: -0.0423\n",
      "Epoch: 10 | R^2_NNRegressor: 0.4835\n",
      "Epoch: 20 | R^2_NNRegressor: 0.5883\n",
      "Epoch: 30 | R^2_NNRegressor: 0.5808\n",
      "Epoch: 40 | R^2_NNRegressor: 0.6237\n",
      "Epoch: 50 | R^2_NNRegressor: 0.6284\n",
      "Epoch: 60 | R^2_NNRegressor: 0.5161\n",
      "Epoch: 70 | R^2_NNRegressor: 0.5758\n",
      "Epoch: 80 | R^2_NNRegressor: 0.5920\n",
      "Epoch: 90 | R^2_NNRegressor: 0.6227\n",
      "Epoch: 100 | R^2_NNRegressor: 0.6743\n",
      "Epoch: 110 | R^2_NNRegressor: 0.6423\n",
      "Epoch: 120 | R^2_NNRegressor: 0.6166\n",
      "Epoch: 130 | R^2_NNRegressor: 0.5805\n",
      "Epoch: 140 | R^2_NNRegressor: 0.5612\n",
      "Epoch: 150 | R^2_NNRegressor: 0.6078\n",
      "Epoch: 160 | R^2_NNRegressor: 0.6549\n",
      "Epoch: 170 | R^2_NNRegressor: 0.6985\n",
      "Epoch: 180 | R^2_NNRegressor: 0.7397\n",
      "Epoch: 190 | R^2_NNRegressor: 0.7453\n",
      "Epoch: 200 | R^2_NNRegressor: 0.7507\n",
      "Epoch: 210 | R^2_NNRegressor: 0.7494\n",
      "Epoch: 220 | R^2_NNRegressor: 0.7087\n",
      "Epoch: 230 | R^2_NNRegressor: 0.7335\n",
      "Epoch: 240 | R^2_NNRegressor: 0.7392\n",
      "Epoch: 250 | R^2_NNRegressor: 0.7328\n",
      "Epoch: 260 | R^2_NNRegressor: 0.7545\n",
      "Epoch: 270 | R^2_NNRegressor: 0.7267\n",
      "Epoch: 280 | R^2_NNRegressor: 0.7287\n",
      "Epoch: 290 | R^2_NNRegressor: 0.7250\n",
      "Epoch: 300 | R^2_NNRegressor: 0.7770\n",
      "Epoch: 310 | R^2_NNRegressor: 0.6994\n",
      "Epoch: 320 | R^2_NNRegressor: 0.7178\n",
      "Epoch: 330 | R^2_NNRegressor: 0.7232\n",
      "Epoch: 340 | R^2_NNRegressor: 0.7323\n",
      "Epoch: 350 | R^2_NNRegressor: 0.7258\n",
      "Epoch: 360 | R^2_NNRegressor: 0.7084\n",
      "Epoch: 370 | R^2_NNRegressor: 0.7095\n",
      "Epoch: 380 | R^2_NNRegressor: 0.6206\n",
      "Epoch: 390 | R^2_NNRegressor: 0.6971\n",
      "Epoch: 400 | R^2_NNRegressor: 0.5875\n",
      "Epoch: 410 | R^2_NNRegressor: 0.7038\n",
      "Epoch: 420 | R^2_NNRegressor: 0.7387\n",
      "Epoch: 430 | R^2_NNRegressor: 0.7170\n",
      "Epoch: 440 | R^2_NNRegressor: 0.7533\n",
      "Epoch: 450 | R^2_NNRegressor: 0.7703\n",
      "Epoch: 460 | R^2_NNRegressor: 0.7203\n",
      "Epoch: 470 | R^2_NNRegressor: 0.7347\n",
      "Epoch: 480 | R^2_NNRegressor: 0.7371\n",
      "Epoch: 490 | R^2_NNRegressor: 0.7369\n",
      "Epoch: 500 | R^2_NNRegressor: 0.7076\n",
      "Epoch: 510 | R^2_NNRegressor: 0.5637\n",
      "Epoch: 520 | R^2_NNRegressor: 0.7858\n",
      "Epoch: 530 | R^2_NNRegressor: 0.7751\n",
      "Epoch: 540 | R^2_NNRegressor: 0.8111\n",
      "Epoch: 550 | R^2_NNRegressor: 0.7916\n",
      "Epoch: 560 | R^2_NNRegressor: 0.7780\n",
      "Epoch: 570 | R^2_NNRegressor: 0.6897\n",
      "Epoch: 580 | R^2_NNRegressor: 0.7559\n",
      "Epoch: 590 | R^2_NNRegressor: 0.7307\n",
      "Epoch: 600 | R^2_NNRegressor: 0.7864\n",
      "Epoch: 610 | R^2_NNRegressor: 0.6743\n",
      "Epoch: 620 | R^2_NNRegressor: 0.7934\n",
      "Epoch: 630 | R^2_NNRegressor: 0.7698\n",
      "Epoch: 640 | R^2_NNRegressor: 0.6728\n",
      "Epoch: 650 | R^2_NNRegressor: 0.7510\n",
      "Epoch: 660 | R^2_NNRegressor: 0.7293\n",
      "Epoch: 670 | R^2_NNRegressor: 0.6671\n",
      "Epoch: 680 | R^2_NNRegressor: 0.7496\n",
      "Epoch: 690 | R^2_NNRegressor: 0.7361\n",
      "Epoch: 700 | R^2_NNRegressor: 0.7310\n",
      "Epoch: 710 | R^2_NNRegressor: 0.7300\n",
      "Epoch: 720 | R^2_NNRegressor: 0.7615\n",
      "Epoch: 730 | R^2_NNRegressor: 0.6804\n",
      "Epoch: 740 | R^2_NNRegressor: 0.7686\n",
      "Epoch: 750 | R^2_NNRegressor: 0.7679\n",
      "Epoch: 760 | R^2_NNRegressor: 0.7757\n",
      "Epoch: 770 | R^2_NNRegressor: 0.7516\n",
      "Epoch: 780 | R^2_NNRegressor: 0.7345\n",
      "Epoch: 790 | R^2_NNRegressor: 0.7535\n",
      "Epoch: 800 | R^2_NNRegressor: 0.7437\n",
      "Epoch: 810 | R^2_NNRegressor: 0.7321\n",
      "Epoch: 820 | R^2_NNRegressor: 0.7445\n",
      "Epoch: 830 | R^2_NNRegressor: 0.8083\n",
      "Epoch: 840 | R^2_NNRegressor: 0.7938\n",
      "Epoch: 850 | R^2_NNRegressor: 0.7622\n",
      "Epoch: 860 | R^2_NNRegressor: 0.7563\n",
      "Epoch: 870 | R^2_NNRegressor: 0.7073\n",
      "Epoch: 880 | R^2_NNRegressor: 0.8119\n",
      "Epoch: 890 | R^2_NNRegressor: 0.7256\n",
      "Epoch: 900 | R^2_NNRegressor: 0.7498\n",
      "Epoch: 910 | R^2_NNRegressor: 0.7589\n",
      "Epoch: 920 | R^2_NNRegressor: 0.7222\n",
      "Epoch: 930 | R^2_NNRegressor: 0.7415\n",
      "Epoch: 940 | R^2_NNRegressor: 0.7293\n",
      "Epoch: 950 | R^2_NNRegressor: 0.6580\n",
      "Epoch: 960 | R^2_NNRegressor: 0.7464\n",
      "Epoch: 970 | R^2_NNRegressor: 0.7599\n",
      "Epoch: 980 | R^2_NNRegressor: 0.6728\n",
      "Epoch: 990 | R^2_NNRegressor: 0.7066\n"
     ]
    }
   ],
   "source": [
    "n_epochs = 1000   # number of epochs to run\n",
    "batch_size = 10  # size of each batch\n",
    "batch_start = torch.arange(0, len(X_train), batch_size)\n",
    " \n",
    "# Hold the best model\n",
    "best_mse = np.inf   # init to infinity\n",
    "best_weights = None\n",
    "history = []\n",
    " \n",
    "for epoch in range(n_epochs):\n",
    "    model.train()\n",
    "    with tqdm.tqdm(batch_start, unit=\"batch\", mininterval=0, disable=True) as bar:\n",
    "        bar.set_description(f\"Epoch {epoch}\")\n",
    "        for start in bar:\n",
    "            # take a batch\n",
    "            X_batch = X_train[start:start+batch_size]\n",
    "            y_batch = y_train[start:start+batch_size]\n",
    "            # forward pass\n",
    "            y_pred = model(X_batch)\n",
    "            loss = loss_fn(y_pred, y_batch)\n",
    "            # backward pass\n",
    "            optimizer.zero_grad()\n",
    "            loss.backward()\n",
    "            # update weights\n",
    "            optimizer.step()\n",
    "            # print progress\n",
    "            bar.set_postfix(mse=float(loss))\n",
    "    # evaluate accuracy at end of each epoch\n",
    "    model.eval()\n",
    "    y_pred = model(X_test)\n",
    "    mse = loss_fn(y_pred, y_test)\n",
    "    mse = float(mse)\n",
    "    history.append(mse)\n",
    "    if mse < best_mse:\n",
    "        best_mse = mse\n",
    "        best_weights = copy.deepcopy(model.state_dict())\n",
    "    if epoch % 10 == 0:\n",
    "        print(f'Epoch: {epoch} | R^2_NNRegressor: {r2_score(y_test.detach().numpy(), y_pred.detach().numpy()):.4f}')\n"
   ]
  },
  {
   "cell_type": "code",
   "execution_count": null,
   "metadata": {
    "colab": {
     "base_uri": "https://localhost:8080/",
     "height": 465
    },
    "id": "_OMFb-Rq9ELi",
    "outputId": "bd8886e6-cc2a-4a48-a7c1-bb6905c0fb3c"
   },
   "outputs": [
    {
     "name": "stdout",
     "output_type": "stream",
     "text": [
      "MSE: 0.01\n",
      "RMSE: 0.10\n"
     ]
    },
    {
     "data": {
      "image/png": "[encoded data removed]",
      "text/plain": [
       "<Figure size 640x480 with 1 Axes>"
      ]
     },
     "metadata": {},
     "output_type": "display_data"
    }
   ],
   "source": [
    "# restore model and return best accuracy\n",
    "model.load_state_dict(best_weights)\n",
    "print(\"MSE: %.2f\" % best_mse)\n",
    "print(\"RMSE: %.2f\" % np.sqrt(best_mse))\n",
    "plt.plot(history)\n",
    "plt.show()"
   ]
  },
  {
   "cell_type": "code",
   "execution_count": null,
   "metadata": {
    "colab": {
     "base_uri": "https://localhost:8080/"
    },
    "id": "h_XbU-4cT5oI",
    "outputId": "ba89b3ff-1a03-4601-8355-51b64d5a23c5"
   },
   "outputs": [
    {
     "name": "stdout",
     "output_type": "stream",
     "text": [
      "tensor([[ 1.1807, -0.8914, -0.9544,  0.4792, -1.4083, -0.2447, -0.8785]])\n",
      "[0.5927748]\n",
      "[0.5710016]\n",
      "tensor([[ 0.1710, -1.0520,  0.0956, -0.3761,  0.0724,  1.5712, -0.4961]])\n",
      "[0.59294844]\n",
      "[0.339595]\n",
      "tensor([[-1.6257, -1.5298, -1.4211, -0.1009, -0.6031, -0.5669, -0.5511]])\n",
      "[0.38588142]\n",
      "[0.4487155]\n",
      "tensor([[-0.3125, -1.3284, -0.4216, -0.3947, -0.5002,  0.4389, -0.7270]])\n",
      "[0.12433444]\n",
      "[0.0600489]\n",
      "tensor([[ 1.1807,  1.1963,  1.2332, -0.3240,  0.6201,  0.7879, -0.7561]])\n",
      "[0.44314802]\n",
      "[0.4515764]\n",
      "tensor([[ 0.3008,  0.3899,  0.2956,  0.3900, -1.3103, -0.6810, -0.8063]])\n",
      "[0.5434505]\n",
      "[0.3068663]\n",
      "tensor([[ 0.2030,  0.2684,  0.0664, -0.2905,  0.0223, -0.6337,  0.5040]])\n",
      "[0.7435308]\n",
      "[0.6729798]\n",
      "tensor([[-0.4677, -1.1810, -1.2253, -0.0488, -0.9191, -0.5659, -0.1451]])\n",
      "[0.49679434]\n",
      "[0.7476472]\n",
      "tensor([[ 1.1807, -1.3090,  1.2332, -0.3500,  0.3690, -0.0700, -0.7001]])\n",
      "[0.20826238]\n",
      "[0.194939]\n",
      "tensor([[-1.2635, -1.4663, -1.0517, -0.3500,  0.5828, -0.1516, -0.6348]])\n",
      "[0.4391008]\n",
      "[0.3649818]\n",
      "tensor([[-0.1166,  0.2900,  1.0053, -0.2496, -1.0241,  0.4580, -0.5538]])\n",
      "[0.44495523]\n",
      "[0.4666986]\n",
      "tensor([[-0.6117,  0.1756, -0.6771, -0.3426, -0.0555, -0.5747,  1.2748]])\n",
      "[0.7799764]\n",
      "[0.8225598]\n",
      "tensor([[ 0.4842,  1.0935,  0.0519, -0.3314,  0.3267,  2.1900, -0.6620]])\n",
      "[0.76480955]\n",
      "[0.7734673]\n",
      "tensor([[-0.6964, -0.6810, -0.5618,  0.4829, -1.2397, -0.6291, -0.4133]])\n",
      "[0.92141753]\n",
      "[0.8847085]\n",
      "tensor([[ 1.1807,  1.1963,  1.2332, -0.3686,  1.2894,  0.3174,  0.1667]])\n",
      "[0.7658201]\n",
      "[0.735075]\n",
      "tensor([[ 1.1807,  1.1963,  1.2332, -0.3389,  0.3690, -0.9885, -0.7001]])\n",
      "[0.08549352]\n",
      "[0.0548717]\n",
      "tensor([[-0.9143, -1.2265, -1.1744, -0.3835,  0.7050,  1.3771, -0.1529]])\n",
      "[0.687035]\n",
      "[0.6889198]\n",
      "tensor([[ 0.3808,  0.3844,  1.2332, -0.3686,  0.5060,  0.0425, -0.1571]])\n",
      "[0.36825883]\n",
      "[0.3493882]\n",
      "tensor([[-0.9650, -1.1670, -1.5378, -0.3203,  0.3513,  0.6414, -0.7399]])\n",
      "[0.65574974]\n",
      "[0.4924104]\n",
      "tensor([[-0.6583, -0.0442, -0.1442,  0.9068, -1.4099, -0.7585, -1.0583]])\n",
      "[0.1522537]\n",
      "[0.1073143]\n"
     ]
    }
   ],
   "source": [
    "model.eval()\n",
    "with torch.no_grad():\n",
    "    # Test out inference with 5 samples\n",
    "    for i in range(20):\n",
    "        X_sample = X_test_raw[i: i+1]\n",
    "        X_sample = scaler.transform(X_sample)\n",
    "        X_sample = torch.tensor(X_sample, dtype=torch.float32)\n",
    "        y_pred = model(X_sample)\n",
    "        #print(f\"{X_test_raw[i]} -> {y_pred[0].numpy()} (expected {y_test[i].numpy()})\")\n",
    "        print(X_sample)\n",
    "        print(y_pred[0].numpy())\n",
    "        print(y_test[i].numpy())\n"
   ]
  },
  {
   "cell_type": "code",
   "execution_count": null,
   "metadata": {
    "id": "5FVWL6mzZ9cI"
   },
   "outputs": [],
   "source": []
  }
 ],
 "metadata": {
  "colab": {
   "provenance": []
  },
  "kernelspec": {
   "display_name": "Python 3 (ipykernel)",
   "language": "python",
   "name": "python3"
  },
  "language_info": {
   "codemirror_mode": {
    "name": "ipython",
    "version": 3
   },
   "file_extension": ".py",
   "mimetype": "text/x-python",
   "name": "python",
   "nbconvert_exporter": "python",
   "pygments_lexer": "ipython3",
   "version": "3.9.12"
  }
 },
 "nbformat": 4,
 "nbformat_minor": 1
}
