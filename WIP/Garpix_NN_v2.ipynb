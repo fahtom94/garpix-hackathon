{
 "cells": [
  {
   "cell_type": "code",
   "execution_count": 1,
   "metadata": {
    "id": "uezSKK0f8aGB"
   },
   "outputs": [],
   "source": [
    "import copy\n",
    " \n",
    "import matplotlib.pyplot as plt\n",
    "import numpy as np\n",
    "import pandas as pd\n",
    "import torch\n",
    "import torch.nn as nn\n",
    "import torch.optim as optim\n",
    "import tqdm\n",
    "\n",
    "from sklearn.model_selection import train_test_split\n",
    "from sklearn.preprocessing import StandardScaler, MinMaxScaler\n",
    "from sklearn.metrics import r2_score"
   ]
  },
  {
   "cell_type": "code",
   "execution_count": 2,
   "metadata": {
    "colab": {
     "base_uri": "https://localhost:8080/"
    },
    "id": "9wgeYYL-8jr4",
    "outputId": "4b1a5b08-0bd7-4f6f-f10a-872dbb880101"
   },
   "outputs": [
    {
     "data": {
      "text/plain": [
       "0      0.817233\n",
       "1      0.515625\n",
       "2      0.642438\n",
       "3      0.672980\n",
       "4      0.582632\n",
       "         ...   \n",
       "620    0.767428\n",
       "622    0.831830\n",
       "625    0.000025\n",
       "626    0.000050\n",
       "627    0.000248\n",
       "Name: filling_space_percent, Length: 510, dtype: float64"
      ]
     },
     "execution_count": 2,
     "metadata": {},
     "output_type": "execute_result"
    }
   ],
   "source": [
    "# Read data\n",
    "#data = fetch_california_housing()\n",
    "#X, y = data.data, data.target\n",
    "df = pd.read_csv('loading_data_max.csv')\n",
    "df=df.drop_duplicates()\n",
    "\n",
    "X = df.drop(['filling_space_percent','density_percent'], axis=1)\n",
    "#X = df['cargo_volume']\n",
    "y = df['filling_space_percent']/100\n",
    "y"
   ]
  },
  {
   "cell_type": "code",
   "execution_count": 3,
   "metadata": {
    "id": "hr0EO7Ba8w8N"
   },
   "outputs": [],
   "source": [
    "# train-test split for model evaluation\n",
    "#X_train, X_test, y_train, y_test = train_test_split(X, y, train_size=0.8, shuffle=True)\n",
    "X_train_raw, X_test_raw, y_train, y_test = train_test_split(X, y, train_size=0.8, shuffle=True,random_state=13)\n",
    "\n",
    "# Standardizing data\n",
    "scaler = MinMaxScaler()\n",
    "scaler.fit(X_train_raw)\n",
    "X_train = scaler.transform(X_train_raw)\n",
    "X_test = scaler.transform(X_test_raw)\n",
    "\n",
    "# Convert to 2D PyTorch tensors\n",
    "'''X_train = torch.tensor(X_train.values, dtype=torch.float32)\n",
    "y_train = torch.tensor(y_train.values, dtype=torch.float32).reshape(-1, 1)\n",
    "X_test = torch.tensor(X_test.values, dtype=torch.float32)\n",
    "y_test = torch.tensor(y_test.values, dtype=torch.float32).reshape(-1, 1)'''\n",
    "\n",
    "X_train = torch.tensor(X_train, dtype=torch.float32)\n",
    "y_train = torch.tensor(y_train.values, dtype=torch.float32).reshape(-1, 1)\n",
    "X_test = torch.tensor(X_test, dtype=torch.float32)\n",
    "y_test = torch.tensor(y_test.values, dtype=torch.float32).reshape(-1, 1)\n",
    " \n"
   ]
  },
  {
   "cell_type": "code",
   "execution_count": 4,
   "metadata": {
    "id": "SSDrDN6f82cx"
   },
   "outputs": [],
   "source": [
    "# Define the model\n",
    "model = nn.Sequential(\n",
    "    nn.Linear(32, 400),\n",
    "    nn.ReLU(),\n",
    "    nn.Linear(400, 400),\n",
    "    nn.ReLU(),\n",
    "    nn.Linear(400, 100),\n",
    "    nn.ReLU(),\n",
    "    nn.Linear(100, 1)\n",
    "\n",
    ")\n",
    " \n",
    "# loss function and optimizer\n",
    "loss_fn = nn.MSELoss()  # mean square error\n",
    "optimizer = optim.Adam(model.parameters(), lr=0.001)\n",
    " \n"
   ]
  },
  {
   "cell_type": "code",
   "execution_count": 8,
   "metadata": {
    "colab": {
     "base_uri": "https://localhost:8080/"
    },
    "id": "gqZKVw1G8-yh",
    "outputId": "afc430ff-4b5f-4a8e-d27a-3c1964c6bdbf"
   },
   "outputs": [
    {
     "name": "stdout",
     "output_type": "stream",
     "text": [
      "Epoch: 0 | R^2_NNRegressor: 0.9515 MSE:0.0030\n",
      "Epoch: 50 | R^2_NNRegressor: 0.9529 MSE:0.0029\n",
      "Epoch: 100 | R^2_NNRegressor: 0.9540 MSE:0.0028\n",
      "Epoch: 150 | R^2_NNRegressor: 0.9542 MSE:0.0028\n",
      "Epoch: 200 | R^2_NNRegressor: 0.9530 MSE:0.0029\n",
      "Epoch: 250 | R^2_NNRegressor: 0.9565 MSE:0.0027\n",
      "Epoch: 300 | R^2_NNRegressor: 0.9571 MSE:0.0026\n",
      "Epoch: 350 | R^2_NNRegressor: 0.9570 MSE:0.0026\n",
      "Epoch: 400 | R^2_NNRegressor: 0.9520 MSE:0.0029\n",
      "Epoch: 450 | R^2_NNRegressor: 0.9551 MSE:0.0028\n",
      "Epoch: 500 | R^2_NNRegressor: 0.9571 MSE:0.0026\n",
      "Epoch: 550 | R^2_NNRegressor: 0.9570 MSE:0.0026\n",
      "Epoch: 600 | R^2_NNRegressor: 0.9571 MSE:0.0026\n",
      "Epoch: 650 | R^2_NNRegressor: 0.9571 MSE:0.0026\n",
      "Epoch: 700 | R^2_NNRegressor: 0.9519 MSE:0.0029\n",
      "Epoch: 750 | R^2_NNRegressor: 0.9536 MSE:0.0028\n",
      "Epoch: 800 | R^2_NNRegressor: 0.9478 MSE:0.0032\n",
      "Epoch: 850 | R^2_NNRegressor: 0.9542 MSE:0.0028\n",
      "Epoch: 900 | R^2_NNRegressor: 0.9548 MSE:0.0028\n",
      "Epoch: 950 | R^2_NNRegressor: 0.9566 MSE:0.0027\n"
     ]
    }
   ],
   "source": [
    "n_epochs = 1000   # number of epochs to run\n",
    "batch_size = 100  # size of each batch\n",
    "batch_start = torch.arange(0, len(X_train), batch_size)\n",
    " \n",
    "# Hold the best model\n",
    "best_mse = np.inf   # init to infinity\n",
    "best_weights = None\n",
    "history = []\n",
    " \n",
    "for epoch in range(n_epochs):\n",
    "    model.train()\n",
    "    with tqdm.tqdm(batch_start, unit=\"batch\", mininterval=0, disable=True) as bar:\n",
    "        bar.set_description(f\"Epoch {epoch}\")\n",
    "        for start in bar:\n",
    "            # take a batch\n",
    "            X_batch = X_train[start:start+batch_size]\n",
    "            y_batch = y_train[start:start+batch_size]\n",
    "            # forward pass\n",
    "            y_pred = model(X_batch)\n",
    "            loss = loss_fn(y_pred, y_batch)\n",
    "            # backward pass\n",
    "            optimizer.zero_grad()\n",
    "            loss.backward()\n",
    "            # update weights\n",
    "            optimizer.step()\n",
    "            # print progress\n",
    "            bar.set_postfix(mse=float(loss))\n",
    "    # evaluate accuracy at end of each epoch\n",
    "    model.eval()\n",
    "    y_pred = model(X_test)\n",
    "    mse = loss_fn(y_pred, y_test)\n",
    "    mse = float(mse)\n",
    "    history.append(mse)\n",
    "    if mse < best_mse:\n",
    "        best_mse = mse\n",
    "        best_weights = copy.deepcopy(model.state_dict())\n",
    "    if epoch % 50 == 0:\n",
    "        print(f'Epoch: {epoch} | R^2_NNRegressor: {r2_score(y_test.detach().numpy(), y_pred.detach().numpy()):.4f} MSE:{mse:.4f}')\n"
   ]
  },
  {
   "cell_type": "code",
   "execution_count": 9,
   "metadata": {
    "colab": {
     "base_uri": "https://localhost:8080/",
     "height": 465
    },
    "id": "_OMFb-Rq9ELi",
    "outputId": "bd8886e6-cc2a-4a48-a7c1-bb6905c0fb3c"
   },
   "outputs": [
    {
     "name": "stdout",
     "output_type": "stream",
     "text": [
      "MSE: 0.00\n",
      "RMSE: 0.05\n"
     ]
    },
    {
     "data": {
      "image/png": "[encoded data removed]",
      "text/plain": [
       "<Figure size 640x480 with 1 Axes>"
      ]
     },
     "metadata": {},
     "output_type": "display_data"
    }
   ],
   "source": [
    "# restore model and return best accuracy\n",
    "model.load_state_dict(best_weights)\n",
    "print(\"MSE: %.2f\" % best_mse)\n",
    "print(\"RMSE: %.2f\" % np.sqrt(best_mse))\n",
    "plt.plot(history)\n",
    "plt.show()"
   ]
  },
  {
   "cell_type": "code",
   "execution_count": 7,
   "metadata": {
    "colab": {
     "base_uri": "https://localhost:8080/"
    },
    "id": "h_XbU-4cT5oI",
    "outputId": "ba89b3ff-1a03-4601-8355-51b64d5a23c5"
   },
   "outputs": [
    {
     "name": "stdout",
     "output_type": "stream",
     "text": [
      "tensor([[0.5084, 0.5817, 0.6449, 0.3498, 0.2083, 0.2132, 0.0237, 0.0237, 0.0000,\n",
      "         0.0014, 0.0135, 0.0135, 0.0000, 0.0000, 0.0000, 0.5436, 1.0000, 0.0362,\n",
      "         0.5621, 0.0166, 0.0166, 0.0166, 0.0000, 0.0575, 0.4800, 0.4254, 0.4152,\n",
      "         0.0000, 0.0014, 1.0000, 0.0000, 0.0064]])\n",
      "[0.56273764]\n",
      "[0.5350945]\n",
      "tensor([[5.0838e-01, 5.8167e-01, 6.4494e-01, 3.4978e-01, 2.0826e-01, 2.9438e-01,\n",
      "         6.9251e-03, 5.2618e-03, 4.1251e-05, 2.9068e-03, 9.0024e-03, 9.0024e-03,\n",
      "         0.0000e+00, 0.0000e+00, 2.0724e-01, 0.0000e+00, 0.0000e+00, 0.0000e+00,\n",
      "         0.0000e+00, 1.9392e-01, 3.3086e-02, 1.8456e-02, 3.0178e-02, 1.9980e-01,\n",
      "         2.3048e-03, 1.4271e-01, 1.2258e-01, 5.4199e-02, 2.0005e-03, 1.0000e+00,\n",
      "         1.0000e+00, 3.1638e-02]])\n",
      "[0.72871065]\n",
      "[0.738972]\n",
      "tensor([[6.6480e-01, 5.7617e-01, 7.0637e-01, 4.8741e-01, 2.8736e-01, 9.5840e-02,\n",
      "         2.3960e-02, 2.3960e-02, 3.4986e-04, 1.4082e-03, 2.4642e-02, 2.4642e-02,\n",
      "         1.9839e-01, 9.4728e-01, 0.0000e+00, 0.0000e+00, 0.0000e+00, 0.0000e+00,\n",
      "         0.0000e+00, 4.4984e-02, 3.8589e-02, 3.8589e-02, 6.8037e-04, 5.7488e-02,\n",
      "         7.9935e-02, 2.0855e-01, 2.0383e-01, 7.6123e-02, 1.3890e-03, 5.0000e-01,\n",
      "         1.0000e+00, 2.6365e-03]])\n",
      "[0.18298814]\n",
      "[0.1743809]\n",
      "tensor([[1.6201e-01, 4.2726e-01, 6.9663e-02, 1.7447e-02, 8.2217e-03, 1.2896e-02,\n",
      "         9.3878e-05, 8.7901e-05, 4.1758e-09, 1.7244e-03, 9.0949e-05, 9.0949e-05,\n",
      "         0.0000e+00, 0.0000e+00, 0.0000e+00, 0.0000e+00, 0.0000e+00, 0.0000e+00,\n",
      "         0.0000e+00, 3.9915e-03, 1.8488e-03, 1.9613e-03, 5.9721e-06, 4.9038e-02,\n",
      "         2.7414e-02, 6.8376e-02, 6.6706e-02, 2.7186e-03, 1.4183e-03, 1.0000e+00,\n",
      "         1.0000e+00, 1.0132e-01]])\n",
      "[0.8503045]\n",
      "[0.8172327]\n",
      "tensor([[1.6201e-01, 3.8144e-01, 6.9663e-02, 1.7447e-02, 7.3961e-03, 1.1098e-02,\n",
      "         8.8215e-05, 4.1482e-05, 4.6855e-09, 6.5390e-03, 9.4891e-05, 9.4891e-05,\n",
      "         0.0000e+00, 0.0000e+00, 0.0000e+00, 0.0000e+00, 0.0000e+00, 0.0000e+00,\n",
      "         0.0000e+00, 3.9915e-03, 1.8090e-03, 1.9613e-03, 6.9492e-06, 4.6047e-02,\n",
      "         2.7414e-02, 6.4493e-02, 5.0010e-02, 2.7193e-03, 2.5616e-03, 1.0000e+00,\n",
      "         1.0000e+00, 9.2655e-02]])\n",
      "[0.83684826]\n",
      "[0.7814752]\n",
      "tensor([[2.1788e-01, 5.0286e-01, 6.2172e-02, 2.0159e-02, 1.0987e-02, 1.3732e-02,\n",
      "         2.2883e-03, 1.5290e-03, 4.3093e-06, 3.7607e-03, 2.7863e-03, 2.7863e-03,\n",
      "         0.0000e+00, 0.0000e+00, 1.5270e-01, 0.0000e+00, 0.0000e+00, 0.0000e+00,\n",
      "         0.0000e+00, 1.7738e-02, 4.9075e-03, 3.1507e-03, 2.5810e-04, 1.4637e-01,\n",
      "         1.2124e-01, 2.4649e-01, 2.7331e-01, 1.0708e-02, 8.6649e-04, 1.0000e+00,\n",
      "         1.0000e+00, 4.1431e-03]])\n",
      "[0.5146502]\n",
      "[0.6518568]\n",
      "tensor([[6.3408e-01, 5.6243e-01, 9.9026e-01, 6.4956e-01, 3.7407e-01, 5.8605e-01,\n",
      "         1.9535e-01, 2.6488e-01, 1.0881e-02, 1.6333e-04, 1.5140e-01, 1.5140e-01,\n",
      "         0.0000e+00, 0.0000e+00, 7.8404e-01, 0.0000e+00, 0.0000e+00, 0.0000e+00,\n",
      "         0.0000e+00, 1.1047e-01, 8.2819e-02, 9.1977e-02, 9.6770e-03, 3.9234e-02,\n",
      "         2.6760e-01, 2.8666e-01, 2.9022e-01, 6.3737e-03, 1.2340e-03, 1.0000e+00,\n",
      "         1.0000e+00, 1.8832e-03]])\n",
      "[0.814124]\n",
      "[0.8191017]\n",
      "tensor([[6.3408e-01, 5.6243e-01, 9.9026e-01, 6.4956e-01, 3.7407e-01, 6.0924e-01,\n",
      "         1.2063e-02, 1.1742e-02, 1.6565e-06, 1.5374e-03, 7.0076e-03, 7.0076e-03,\n",
      "         0.0000e+00, 0.0000e+00, 8.0343e-01, 0.0000e+00, 0.0000e+00, 0.0000e+00,\n",
      "         0.0000e+00, 5.8578e-01, 4.6038e-01, 5.4068e-01, 1.7784e-01, 3.0137e-02,\n",
      "         1.0645e-02, 1.3431e-02, 1.2809e-02, 8.6495e-06, 1.6509e-03, 1.0000e+00,\n",
      "         1.0000e+00, 3.7665e-02]])\n",
      "[0.756809]\n",
      "[0.8515112]\n",
      "tensor([[5.9553e-01, 5.1730e-01, 4.2157e-01, 2.6758e-01, 1.4271e-01, 8.6510e-02,\n",
      "         3.4605e-02, 3.6955e-02, 1.3340e-04, 1.1067e-03, 2.2413e-02, 2.2413e-02,\n",
      "         0.0000e+00, 0.0000e+00, 6.7859e-02, 0.0000e+00, 0.0000e+00, 0.0000e+00,\n",
      "         0.0000e+00, 2.9065e-02, 1.5800e-02, 1.3523e-02, 9.2397e-04, 8.7436e-02,\n",
      "         1.6272e-01, 4.9604e-01, 4.8429e-01, 1.8603e-01, 1.3877e-03, 1.0000e+00,\n",
      "         1.0000e+00, 1.5066e-03]])\n",
      "[0.32238632]\n",
      "[0.3169028]\n",
      "tensor([[0.6313, 0.6243, 0.9985, 0.6522, 0.4148, 0.5865, 0.0838, 0.0624, 0.0010,\n",
      "         0.0030, 0.0576, 0.0576, 0.7573, 0.8529, 0.1970, 0.7510, 1.0000, 0.0340,\n",
      "         0.8304, 0.0547, 0.0364, 0.0420, 0.0024, 0.0333, 0.4710, 0.4977, 0.4380,\n",
      "         0.0463, 0.0019, 0.0714, 0.0000, 0.0049]])\n",
      "[0.72793746]\n",
      "[0.7392766]\n",
      "tensor([[6.3408e-01, 5.6243e-01, 9.9026e-01, 6.4956e-01, 3.7407e-01, 5.8593e-01,\n",
      "         4.1851e-02, 4.2669e-02, 1.1889e-06, 1.3173e-03, 2.3932e-02, 2.3932e-02,\n",
      "         9.8351e-01, 1.0000e+00, 0.0000e+00, 8.3193e-01, 1.0000e+00, 3.5406e-02,\n",
      "         9.0344e-01, 2.3919e-02, 2.1767e-02, 2.0783e-02, 3.9683e-05, 6.6010e-02,\n",
      "         3.3529e-01, 3.2744e-01, 3.3283e-01, 1.9203e-03, 1.2162e-03, 0.0000e+00,\n",
      "         0.0000e+00, 1.0169e-02]])\n",
      "[0.8196913]\n",
      "[0.818931]\n",
      "tensor([[6.3408e-01, 5.6243e-01, 9.9026e-01, 6.4956e-01, 3.7407e-01, 5.1726e-01,\n",
      "         1.9156e-02, 1.3519e-02, 1.0226e-04, 3.3854e-03, 1.5436e-02, 1.5436e-02,\n",
      "         0.0000e+00, 0.0000e+00, 2.7338e-02, 7.3442e-01, 1.0000e+00, 8.5296e-02,\n",
      "         5.8424e-01, 7.5100e-02, 1.4646e-02, 1.0583e-02, 1.4863e-03, 1.2508e-01,\n",
      "         9.0929e-02, 2.9374e-01, 2.8414e-01, 1.6793e-02, 1.4316e-03, 1.0000e+00,\n",
      "         0.0000e+00, 1.9962e-02]])\n",
      "[0.7108613]\n",
      "[0.7229493]\n",
      "tensor([[5.9553e-01, 5.8717e-01, 8.8105e-01, 5.4707e-01, 3.2829e-01, 1.0150e-01,\n",
      "         2.9000e-02, 2.2759e-02, 3.4897e-04, 2.7086e-03, 2.5411e-02, 2.5411e-02,\n",
      "         0.0000e+00, 0.0000e+00, 4.0837e-02, 0.0000e+00, 0.0000e+00, 0.0000e+00,\n",
      "         0.0000e+00, 2.0769e-01, 4.4107e-02, 1.8037e-02, 7.6243e-02, 3.1681e-01,\n",
      "         1.7407e-02, 3.7158e-01, 3.9902e-01, 1.4107e-01, 9.8979e-04, 1.0000e+00,\n",
      "         1.0000e+00, 2.2599e-03]])\n",
      "[0.17349997]\n",
      "[0.1616527]\n",
      "tensor([[6.0894e-01, 5.7617e-01, 9.9850e-01, 6.3116e-01, 3.7191e-01, 4.0479e-01,\n",
      "         2.5298e-02, 2.2845e-02, 9.7529e-05, 1.9173e-03, 1.7654e-02, 1.7654e-02,\n",
      "         2.4143e-01, 3.5327e-01, 0.0000e+00, 5.7808e-01, 1.0000e+00, 4.3789e-02,\n",
      "         8.6975e-01, 2.0814e-02, 1.3053e-02, 1.3719e-02, 4.2733e-04, 4.8851e-02,\n",
      "         2.6408e-01, 4.0293e-01, 3.4854e-01, 3.8905e-02, 1.9543e-03, 7.5000e-01,\n",
      "         0.0000e+00, 1.1676e-02]])\n",
      "[0.57701993]\n",
      "[0.5690437]\n",
      "tensor([[ 6.3128e-01,  6.2428e-01,  9.9850e-01,  6.5223e-01,  4.1476e-01,\n",
      "          5.1607e-01,  4.1285e-02,  6.1644e-02,  5.5281e-04, -1.5804e-04,\n",
      "          3.4607e-02,  3.4607e-02,  3.9858e-01,  5.1017e-01,  2.5148e-02,\n",
      "          6.6086e-01,  1.0000e+00,  3.1913e-02,  9.1100e-01,  4.4416e-02,\n",
      "          2.0935e-02,  1.8593e-02,  4.1347e-03,  8.0107e-02,  5.8996e-02,\n",
      "          3.1769e-01,  4.2217e-01,  1.0579e-01,  2.2344e-04,  6.4000e-01,\n",
      "          0.0000e+00,  9.0395e-03]])\n",
      "[0.6594318]\n",
      "[0.6505309]\n",
      "tensor([[1.6201e-01, 3.8144e-01, 6.9663e-02, 1.7447e-02, 7.3961e-03, 9.2424e-03,\n",
      "         3.1187e-04, 2.2857e-04, 1.2287e-07, 3.1236e-03, 5.0846e-04, 5.0846e-04,\n",
      "         0.0000e+00, 0.0000e+00, 6.4562e-02, 6.6126e-01, 1.0000e+00, 1.9856e-01,\n",
      "         3.5074e-01, 1.4429e-02, 4.1512e-03, 3.5735e-03, 7.0813e-05, 8.3676e-02,\n",
      "         3.1868e-02, 7.4871e-02, 6.5820e-02, 3.4272e-03, 1.9005e-03, 1.0000e+00,\n",
      "         0.0000e+00, 2.1846e-02]])\n",
      "[0.6548619]\n",
      "[0.6509269]\n",
      "tensor([[ 6.3128e-01,  6.2428e-01,  9.9850e-01,  6.5223e-01,  4.1476e-01,\n",
      "          5.3444e-01,  4.1109e-02,  6.1644e-02,  5.3123e-04, -1.7154e-04,\n",
      "          3.4138e-02,  3.4138e-02,  3.9858e-01,  4.9264e-01,  2.4284e-02,\n",
      "          6.8437e-01,  1.0000e+00,  3.3587e-02,  9.1100e-01,  4.4416e-02,\n",
      "          2.0548e-02,  1.8593e-02,  4.0260e-03,  7.6371e-02,  5.8996e-02,\n",
      "          3.3084e-01,  4.2217e-01,  1.1727e-01,  3.5705e-04,  6.5385e-01,\n",
      "          0.0000e+00,  9.4162e-03]])\n",
      "[0.6856936]\n",
      "[0.6736758]\n",
      "tensor([[7.8212e-02, 7.2165e-02, 2.4719e-02, 4.6609e-03, 5.4603e-04, 7.3196e-04,\n",
      "         9.6979e-05, 9.6979e-05, 0.0000e+00, 1.4082e-03, 5.5402e-05, 5.5402e-05,\n",
      "         0.0000e+00, 0.0000e+00, 4.0779e-01, 6.7725e-01, 1.0000e+00, 3.7937e-01,\n",
      "         6.6807e-02, 5.0037e-02, 5.0037e-02, 5.0037e-02, 0.0000e+00, 5.7488e-02,\n",
      "         1.7931e-02, 1.5418e-02, 1.5513e-02, 0.0000e+00, 1.3890e-03, 1.0000e+00,\n",
      "         0.0000e+00, 5.2731e-03]])\n",
      "[0.6535319]\n",
      "[0.6666667]\n",
      "tensor([[6.3687e-01, 5.3540e-01, 6.9513e-01, 4.6136e-01, 2.5375e-01, 2.0059e-01,\n",
      "         7.0369e-03, 5.2618e-03, 4.2691e-05, 3.0075e-03, 9.1294e-03, 9.1294e-03,\n",
      "         0.0000e+00, 0.0000e+00, 3.3808e-02, 0.0000e+00, 0.0000e+00, 0.0000e+00,\n",
      "         0.0000e+00, 1.9392e-01, 3.3007e-02, 1.8456e-02, 3.0194e-02, 1.9902e-01,\n",
      "         2.3048e-03, 1.4469e-01, 1.2258e-01, 5.6555e-02, 2.0695e-03, 1.0000e+00,\n",
      "         1.0000e+00, 2.1092e-02]])\n",
      "[0.40071663]\n",
      "[0.4132823]\n",
      "tensor([[6.3408e-01, 5.6243e-01, 9.9026e-01, 6.4956e-01, 3.7407e-01, 1.0680e-01,\n",
      "         7.3644e-03, 5.2618e-03, 4.6910e-05, 3.3026e-03, 9.4794e-03, 9.4794e-03,\n",
      "         3.1306e-02, 1.7462e-01, 3.1748e-02, 0.0000e+00, 0.0000e+00, 0.0000e+00,\n",
      "         0.0000e+00, 1.9392e-01, 3.2773e-02, 1.8456e-02, 3.0241e-02, 1.9675e-01,\n",
      "         2.3048e-03, 1.5048e-01, 1.2258e-01, 6.3460e-02, 2.2718e-03, 8.2759e-01,\n",
      "         1.0000e+00, 1.0546e-02]])\n",
      "[0.13739444]\n",
      "[0.1492808]\n"
     ]
    }
   ],
   "source": [
    "model.eval()\n",
    "with torch.no_grad():\n",
    "    # Test out inference with 5 samples\n",
    "    for i in range(20):\n",
    "        X_sample = X_test_raw[i: i+1]\n",
    "        X_sample = scaler.transform(X_sample)\n",
    "        X_sample = torch.tensor(X_sample, dtype=torch.float32)\n",
    "        y_pred = model(X_sample)\n",
    "        #print(f\"{X_test_raw[i]} -> {y_pred[0].numpy()} (expected {y_test[i].numpy()})\")\n",
    "        print(X_sample)\n",
    "        print(y_pred[0].numpy())\n",
    "        print(y_test[i].numpy())\n"
   ]
  },
  {
   "cell_type": "code",
   "execution_count": null,
   "metadata": {
    "id": "5FVWL6mzZ9cI"
   },
   "outputs": [],
   "source": []
  }
 ],
 "metadata": {
  "colab": {
   "provenance": []
  },
  "kernelspec": {
   "display_name": "Python 3 (ipykernel)",
   "language": "python",
   "name": "python3"
  },
  "language_info": {
   "codemirror_mode": {
    "name": "ipython",
    "version": 3
   },
   "file_extension": ".py",
   "mimetype": "text/x-python",
   "name": "python",
   "nbconvert_exporter": "python",
   "pygments_lexer": "ipython3",
   "version": "3.9.15"
  }
 },
 "nbformat": 4,
 "nbformat_minor": 1
}
