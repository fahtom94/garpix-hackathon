{
 "cells": [
  {
   "cell_type": "code",
   "execution_count": 1,
   "id": "3c0d04f8",
   "metadata": {},
   "outputs": [],
   "source": [
    "import json\n",
    "import pandas as pd\n",
    "from tqdm import  tqdm_notebook\n",
    "import os"
   ]
  },
  {
   "cell_type": "markdown",
   "id": "bbc6e3cc",
   "metadata": {},
   "source": [
    "#### json file - structure"
   ]
  },
  {
   "cell_type": "code",
   "execution_count": 60,
   "id": "2c7eb84d",
   "metadata": {},
   "outputs": [
    {
     "data": {
      "text/html": [
       "<div>\n",
       "<style scoped>\n",
       "    .dataframe tbody tr th:only-of-type {\n",
       "        vertical-align: middle;\n",
       "    }\n",
       "\n",
       "    .dataframe tbody tr th {\n",
       "        vertical-align: top;\n",
       "    }\n",
       "\n",
       "    .dataframe thead th {\n",
       "        text-align: right;\n",
       "    }\n",
       "</style>\n",
       "<table border=\"1\" class=\"dataframe\">\n",
       "  <thead>\n",
       "    <tr style=\"text-align: right;\">\n",
       "      <th></th>\n",
       "      <th>data</th>\n",
       "      <th>data_result</th>\n",
       "    </tr>\n",
       "  </thead>\n",
       "  <tbody>\n",
       "    <tr>\n",
       "      <th>cargoes</th>\n",
       "      <td>[{'info': {'color': '#acd642', 'title': 'Опола...</td>\n",
       "      <td>NaN</td>\n",
       "    </tr>\n",
       "    <tr>\n",
       "      <th>settings</th>\n",
       "      <td>{'rank': False, 'max_step': 100, 'min_step': 5...</td>\n",
       "      <td>NaN</td>\n",
       "    </tr>\n",
       "    <tr>\n",
       "      <th>put_boxes</th>\n",
       "      <td>[]</td>\n",
       "      <td>NaN</td>\n",
       "    </tr>\n",
       "    <tr>\n",
       "      <th>initial_id</th>\n",
       "      <td>0</td>\n",
       "      <td>NaN</td>\n",
       "    </tr>\n",
       "    <tr>\n",
       "      <th>cargo_space</th>\n",
       "      <td>{'id': 256, 'info': {'uid': '256_0', 'sort': 0...</td>\n",
       "      <td>{'id': 256, 'info': {'uid': '256_0', 'sort': 0...</td>\n",
       "    </tr>\n",
       "    <tr>\n",
       "      <th>calculation_id</th>\n",
       "      <td>14787</td>\n",
       "      <td>14787</td>\n",
       "    </tr>\n",
       "    <tr>\n",
       "      <th>boxes</th>\n",
       "      <td>NaN</td>\n",
       "      <td>[{'id': 1, 'info': {'color': '#acd642', 'title...</td>\n",
       "    </tr>\n",
       "    <tr>\n",
       "      <th>version</th>\n",
       "      <td>NaN</td>\n",
       "      <td>5</td>\n",
       "    </tr>\n",
       "    <tr>\n",
       "      <th>cargo_groups</th>\n",
       "      <td>NaN</td>\n",
       "      <td>[{'info': {'color': '#acd642', 'title': 'Опола...</td>\n",
       "    </tr>\n",
       "    <tr>\n",
       "      <th>packing_type</th>\n",
       "      <td>NaN</td>\n",
       "      <td>PackingLayers</td>\n",
       "    </tr>\n",
       "    <tr>\n",
       "      <th>invalid_errors</th>\n",
       "      <td>NaN</td>\n",
       "      <td>[]</td>\n",
       "    </tr>\n",
       "    <tr>\n",
       "      <th>unpacked_errors</th>\n",
       "      <td>NaN</td>\n",
       "      <td>[{'key': 0, 'name': 'success', 'boxes': [{'id'...</td>\n",
       "    </tr>\n",
       "    <tr>\n",
       "      <th>validate_errors</th>\n",
       "      <td>NaN</td>\n",
       "      <td>[ERROR_INDENTATION]</td>\n",
       "    </tr>\n",
       "    <tr>\n",
       "      <th>is_packed_same_boxes</th>\n",
       "      <td>NaN</td>\n",
       "      <td>False</td>\n",
       "    </tr>\n",
       "  </tbody>\n",
       "</table>\n",
       "</div>"
      ],
      "text/plain": [
       "                                                                   data  \\\n",
       "cargoes               [{'info': {'color': '#acd642', 'title': 'Опола...   \n",
       "settings              {'rank': False, 'max_step': 100, 'min_step': 5...   \n",
       "put_boxes                                                            []   \n",
       "initial_id                                                            0   \n",
       "cargo_space           {'id': 256, 'info': {'uid': '256_0', 'sort': 0...   \n",
       "calculation_id                                                    14787   \n",
       "boxes                                                               NaN   \n",
       "version                                                             NaN   \n",
       "cargo_groups                                                        NaN   \n",
       "packing_type                                                        NaN   \n",
       "invalid_errors                                                      NaN   \n",
       "unpacked_errors                                                     NaN   \n",
       "validate_errors                                                     NaN   \n",
       "is_packed_same_boxes                                                NaN   \n",
       "\n",
       "                                                            data_result  \n",
       "cargoes                                                             NaN  \n",
       "settings                                                            NaN  \n",
       "put_boxes                                                           NaN  \n",
       "initial_id                                                          NaN  \n",
       "cargo_space           {'id': 256, 'info': {'uid': '256_0', 'sort': 0...  \n",
       "calculation_id                                                    14787  \n",
       "boxes                 [{'id': 1, 'info': {'color': '#acd642', 'title...  \n",
       "version                                                               5  \n",
       "cargo_groups          [{'info': {'color': '#acd642', 'title': 'Опола...  \n",
       "packing_type                                              PackingLayers  \n",
       "invalid_errors                                                       []  \n",
       "unpacked_errors       [{'key': 0, 'name': 'success', 'boxes': [{'id'...  \n",
       "validate_errors                                     [ERROR_INDENTATION]  \n",
       "is_packed_same_boxes                                              False  "
      ]
     },
     "execution_count": 60,
     "metadata": {},
     "output_type": "execute_result"
    }
   ],
   "source": [
    "df = pd.read_json('/home/yuriy/Projects/MIPT/Hakaton/ALGORITM/data_for_algoritm_14787.json')\n",
    "df"
   ]
  },
  {
   "cell_type": "code",
   "execution_count": 2,
   "id": "42fdec09",
   "metadata": {},
   "outputs": [],
   "source": [
    "files = os.listdir('ALGORITM/')"
   ]
  },
  {
   "cell_type": "markdown",
   "id": "4f4d7027",
   "metadata": {},
   "source": [
    "#### Parsing -> column:data, index:cargoes. Look at the json file structure."
   ]
  },
  {
   "cell_type": "code",
   "execution_count": 5,
   "id": "4239fe49",
   "metadata": {},
   "outputs": [],
   "source": [
    "# 158 файл - 'data_for_algoritm_16625.json' не стандартный - нет некоторых колонок\n",
    "ex_list = [158]"
   ]
  },
  {
   "cell_type": "code",
   "execution_count": null,
   "id": "39543b52",
   "metadata": {},
   "outputs": [],
   "source": [
    "all_cargoes = pd.DataFrame()\n",
    "for f in tqdm_notebook(range(len(files))):\n",
    "    if f in ex_list:\n",
    "        continue\n",
    "    df = pd.read_json('/home/yuriy/Projects/MIPT/Hakaton/ALGORITM/'+ files[f])\n",
    "    length = len(df[df.index =='cargoes'].values[0][0])\n",
    "    cargoes = pd.DataFrame()\n",
    "    for i in tqdm_notebook(range(length)):\n",
    "        data = df[df.index =='cargoes'].values[0][0][i]\n",
    "        atom_df = pd.DataFrame({'color': data['info']['color'],\n",
    "                   'title': data['info']['title'],\n",
    "                   'article': data['info']['article'],\n",
    "                   'group_id': data['info']['group_id'],\n",
    "                   'group_title': data['info']['group_title'],\n",
    "                   'mass': data['mass'],\n",
    "                   'width': data['size']['width'],\n",
    "                   'height': data['size']['height'],\n",
    "                   'length': data['size']['length'],\n",
    "                   'sort': data['sort'],\n",
    "                   'type': data['type'],\n",
    "                   'count': data['count'],\n",
    "                   'width_margin': data['margin']['width'],\n",
    "                   'height_margin': data['margin']['height'],\n",
    "                   'length_margin': data['margin']['length'],\n",
    "                   'cargo_id': data['cargo_id'],\n",
    "                   'stacking': data['stacking'],\n",
    "                   'turnover': data['turnover'],\n",
    "                   'stacking_limit': data['stacking_limit']}, index=[0])\n",
    "        cargoes = pd.concat([cargoes,atom_df], axis=0).reset_index(drop=True)\n",
    "    all_cargoes = pd.concat([all_cargoes, cargoes],axis=0).reset_index(drop=True)   "
   ]
  },
  {
   "cell_type": "code",
   "execution_count": 27,
   "id": "869164b2",
   "metadata": {},
   "outputs": [
    {
     "name": "stdout",
     "output_type": "stream",
     "text": [
      "<class 'pandas.core.frame.DataFrame'>\n",
      "RangeIndex: 8940 entries, 0 to 8939\n",
      "Data columns (total 19 columns):\n",
      " #   Column          Non-Null Count  Dtype  \n",
      "---  ------          --------------  -----  \n",
      " 0   color           8940 non-null   object \n",
      " 1   title           8940 non-null   object \n",
      " 2   article         8940 non-null   object \n",
      " 3   group_id        8940 non-null   object \n",
      " 4   group_title     8940 non-null   object \n",
      " 5   mass            8940 non-null   float64\n",
      " 6   width           8940 non-null   float64\n",
      " 7   height          8940 non-null   float64\n",
      " 8   length          8940 non-null   float64\n",
      " 9   sort            8940 non-null   int64  \n",
      " 10  type            8940 non-null   object \n",
      " 11  count           8940 non-null   float64\n",
      " 12  width_margin    8940 non-null   float64\n",
      " 13  height_margin   8940 non-null   float64\n",
      " 14  length_margin   8940 non-null   float64\n",
      " 15  cargo_id        8940 non-null   object \n",
      " 16  stacking        8940 non-null   bool   \n",
      " 17  turnover        8940 non-null   bool   \n",
      " 18  stacking_limit  8940 non-null   float64\n",
      "dtypes: bool(2), float64(9), int64(1), object(7)\n",
      "memory usage: 1.2+ MB\n"
     ]
    }
   ],
   "source": [
    "all_cargoes.info()"
   ]
  },
  {
   "cell_type": "code",
   "execution_count": 28,
   "id": "6b7f6252",
   "metadata": {},
   "outputs": [],
   "source": [
    "all_cargoes.to_csv('data_cargoes.csv', index=False)"
   ]
  },
  {
   "cell_type": "markdown",
   "id": "1fe689e4",
   "metadata": {},
   "source": [
    "#### column:data, index:cargoes_space"
   ]
  },
  {
   "cell_type": "code",
   "execution_count": 10,
   "id": "8ad9226b",
   "metadata": {},
   "outputs": [
    {
     "name": "stderr",
     "output_type": "stream",
     "text": [
      "/tmp/ipykernel_20649/1512254365.py:2: TqdmDeprecationWarning: This function will be removed in tqdm==5.0.0\n",
      "Please use `tqdm.notebook.tqdm` instead of `tqdm.tqdm_notebook`\n",
      "  for f in tqdm_notebook(range(len(files))):\n"
     ]
    },
    {
     "data": {
      "application/vnd.jupyter.widget-view+json": {
       "model_id": "2077c860facd48a7a19e0d675bf3868c",
       "version_major": 2,
       "version_minor": 0
      },
      "text/plain": [
       "  0%|          | 0/628 [00:00<?, ?it/s]"
      ]
     },
     "metadata": {},
     "output_type": "display_data"
    }
   ],
   "source": [
    "all_cargoes_space = pd.DataFrame()\n",
    "for f in tqdm_notebook(range(len(files))):\n",
    "    if f==158:\n",
    "        continue\n",
    "    df = pd.read_json('/home/yuriy/Projects/MIPT/Hakaton/ALGORITM/'+ files[f])\n",
    "    data = df[df.index =='cargo_space'].values[0][0]\n",
    "    atom_df = {\n",
    "    'id': data['id'],\n",
    "    'info': data['info'],\n",
    "    'mass': data['mass'],\n",
    "    'size': data['size'],\n",
    "    'type': data['type'],\n",
    "    'axles': data['axles'],\n",
    "    'title': data['title'],\n",
    "    'indentation': data['indentation'],\n",
    "    'loading_size': data['loading_size'],\n",
    "    'carrying_capacity': data['carrying_capacity']\n",
    "    \n",
    "     }\n",
    "\n",
    "    temp = pd.json_normalize(atom_df)\n",
    "    all_cargoes_space = pd.concat([all_cargoes_space, temp], axis=0).reset_index(drop=True)\n",
    "    "
   ]
  },
  {
   "cell_type": "code",
   "execution_count": 11,
   "id": "92c0a243",
   "metadata": {},
   "outputs": [
    {
     "name": "stdout",
     "output_type": "stream",
     "text": [
      "<class 'pandas.core.frame.DataFrame'>\n",
      "RangeIndex: 627 entries, 0 to 626\n",
      "Data columns (total 24 columns):\n",
      " #   Column                   Non-Null Count  Dtype  \n",
      "---  ------                   --------------  -----  \n",
      " 0   id                       627 non-null    int64  \n",
      " 1   mass                     627 non-null    int64  \n",
      " 2   type                     627 non-null    object \n",
      " 3   axles                    627 non-null    object \n",
      " 4   title                    627 non-null    object \n",
      " 5   carrying_capacity        627 non-null    int64  \n",
      " 6   info.uid                 627 non-null    object \n",
      " 7   info.sort                627 non-null    int64  \n",
      " 8   info.title               627 non-null    object \n",
      " 9   size.width               627 non-null    int64  \n",
      " 10  size.height              627 non-null    int64  \n",
      " 11  size.length              627 non-null    int64  \n",
      " 12  indentation.width        627 non-null    int64  \n",
      " 13  indentation.height       627 non-null    int64  \n",
      " 14  indentation.length       627 non-null    int64  \n",
      " 15  indentation.height_top   624 non-null    float64\n",
      " 16  indentation.length_end   624 non-null    float64\n",
      " 17  indentation.width_right  624 non-null    float64\n",
      " 18  loading_size.width       627 non-null    int64  \n",
      " 19  loading_size.height      627 non-null    int64  \n",
      " 20  loading_size.length      627 non-null    int64  \n",
      " 21  info.margin.width        173 non-null    float64\n",
      " 22  info.margin.height       173 non-null    float64\n",
      " 23  info.margin.length       173 non-null    float64\n",
      "dtypes: float64(6), int64(13), object(5)\n",
      "memory usage: 117.7+ KB\n"
     ]
    }
   ],
   "source": [
    "all_cargoes_space.info()"
   ]
  },
  {
   "cell_type": "code",
   "execution_count": 20,
   "id": "d20723d8",
   "metadata": {},
   "outputs": [],
   "source": [
    "all_cargoes_space.to_csv('data_cargoes_space.csv', index=False)"
   ]
  },
  {
   "cell_type": "markdown",
   "id": "f039f22a",
   "metadata": {},
   "source": [
    "#### column:data_result, index:cargoes_space"
   ]
  },
  {
   "cell_type": "code",
   "execution_count": 32,
   "id": "458cd85d",
   "metadata": {},
   "outputs": [
    {
     "name": "stderr",
     "output_type": "stream",
     "text": [
      "/tmp/ipykernel_20649/4082099006.py:2: TqdmDeprecationWarning: This function will be removed in tqdm==5.0.0\n",
      "Please use `tqdm.notebook.tqdm` instead of `tqdm.tqdm_notebook`\n",
      "  for f in tqdm_notebook(range(len(files))):\n"
     ]
    },
    {
     "data": {
      "application/vnd.jupyter.widget-view+json": {
       "model_id": "85a2b4f3e543497e8e9f7c7e4fd86059",
       "version_major": 2,
       "version_minor": 0
      },
      "text/plain": [
       "  0%|          | 0/628 [00:00<?, ?it/s]"
      ]
     },
     "metadata": {},
     "output_type": "display_data"
    }
   ],
   "source": [
    "all_cargoes_space_result = pd.DataFrame()\n",
    "for f in tqdm_notebook(range(len(files))):\n",
    "    if f in ex_list:\n",
    "        continue\n",
    "    df = pd.read_json('/home/yuriy/Projects/MIPT/Hakaton/ALGORITM/'+ files[f])\n",
    "    data = df[df.index =='cargo_space'].values[0][1]\n",
    "    atom_df = {\n",
    "    'id': data['id'],\n",
    "    'info': data['info'],\n",
    "    'mass': data['mass'],\n",
    "    'size': data['size'],\n",
    "    'type': data['type'],\n",
    "    'indentation': data['indentation'],\n",
    "    'loading_size': data['loading_size'],\n",
    "    'calculation_info': data['calculation_info'],\n",
    "    'carrying_capacity': data['carrying_capacity'],\n",
    "    'real_center_of_gravity': data['real_center_of_gravity'],\n",
    "    'ideal_center_of_gravity': data['ideal_center_of_gravity']\n",
    "    \n",
    "     }\n",
    "\n",
    "    temp = pd.json_normalize(atom_df)\n",
    "    all_cargoes_space_result = pd.concat([all_cargoes_space_result, temp], axis=0).reset_index(drop=True)"
   ]
  },
  {
   "cell_type": "code",
   "execution_count": 33,
   "id": "70444ca6",
   "metadata": {},
   "outputs": [
    {
     "name": "stdout",
     "output_type": "stream",
     "text": [
      "<class 'pandas.core.frame.DataFrame'>\n",
      "RangeIndex: 627 entries, 0 to 626\n",
      "Data columns (total 35 columns):\n",
      " #   Column                                  Non-Null Count  Dtype  \n",
      "---  ------                                  --------------  -----  \n",
      " 0   id                                      627 non-null    int64  \n",
      " 1   mass                                    627 non-null    float64\n",
      " 2   type                                    627 non-null    object \n",
      " 3   carrying_capacity                       627 non-null    float64\n",
      " 4   real_center_of_gravity                  627 non-null    object \n",
      " 5   ideal_center_of_gravity                 627 non-null    object \n",
      " 6   info.uid                                627 non-null    object \n",
      " 7   info.sort                               627 non-null    int64  \n",
      " 8   info.title                              627 non-null    object \n",
      " 9   size.width                              627 non-null    float64\n",
      " 10  size.height                             627 non-null    float64\n",
      " 11  size.length                             627 non-null    float64\n",
      " 12  indentation.width                       627 non-null    float64\n",
      " 13  indentation.height                      627 non-null    float64\n",
      " 14  indentation.length                      627 non-null    float64\n",
      " 15  indentation.height_top                  624 non-null    float64\n",
      " 16  indentation.length_end                  624 non-null    float64\n",
      " 17  indentation.width_right                 624 non-null    float64\n",
      " 18  loading_size.width                      627 non-null    float64\n",
      " 19  loading_size.height                     627 non-null    float64\n",
      " 20  loading_size.length                     627 non-null    float64\n",
      " 21  calculation_info.step_count             619 non-null    float64\n",
      " 22  calculation_info.cargos_mass            627 non-null    float64\n",
      " 23  calculation_info.load_volume            627 non-null    float64\n",
      " 24  calculation_info.cargos_volume          627 non-null    float64\n",
      " 25  calculation_info.count_cargoes          619 non-null    float64\n",
      " 26  calculation_info.load_capacity          627 non-null    float64\n",
      " 27  calculation_info.loading_height         627 non-null    float64\n",
      " 28  calculation_info.density_percent        627 non-null    float64\n",
      " 29  calculation_info.remaining_volume       627 non-null    float64\n",
      " 30  calculation_info.void_space_percent     627 non-null    float64\n",
      " 31  calculation_info.filling_space_percent  627 non-null    float64\n",
      " 32  info.margin.width                       173 non-null    float64\n",
      " 33  info.margin.height                      173 non-null    float64\n",
      " 34  info.margin.length                      173 non-null    float64\n",
      "dtypes: float64(28), int64(2), object(5)\n",
      "memory usage: 171.6+ KB\n"
     ]
    }
   ],
   "source": [
    "all_cargoes_space_result.info()"
   ]
  },
  {
   "cell_type": "code",
   "execution_count": 42,
   "id": "326b4db5",
   "metadata": {},
   "outputs": [],
   "source": [
    "all_cargoes_space_result.to_csv('data_result_cargoes_space.csv', index=False)"
   ]
  },
  {
   "cell_type": "markdown",
   "id": "98e40943",
   "metadata": {},
   "source": [
    "#### column:data_result, index:boxes"
   ]
  },
  {
   "cell_type": "code",
   "execution_count": null,
   "id": "2b2bd6d4",
   "metadata": {},
   "outputs": [],
   "source": [
    "all_boxes = pd.DataFrame()\n",
    "for f in tqdm_notebook(range(len(files))):\n",
    "    if f in ex_list:\n",
    "        continue\n",
    "    df = pd.read_json('/home/yuriy/Projects/MIPT/Hakaton/ALGORITM/'+ files[f])\n",
    "    length = len(df[df.index =='boxes'].values[0][1])\n",
    "    boxes = pd.DataFrame()\n",
    "    for i in tqdm_notebook(range(length)):\n",
    "        data = df[df.index =='boxes'].values[0][1][i]\n",
    "        atom_df = pd.DataFrame({\n",
    "                   'id': data['id'],\n",
    "                   'color': data['info']['color'],\n",
    "                   'title': data['info']['title'],\n",
    "                   'article': data['info']['article'],\n",
    "                   'group_id': data['info']['group_id'],\n",
    "                   'group_title': data['info']['group_title'],\n",
    "                   'mass': data['mass'],\n",
    "                   'width': data['size']['width'],\n",
    "                   'height': data['size']['height'],\n",
    "                   'length': data['size']['length'],\n",
    "                   'sort': data['sort'],\n",
    "                   'type': data['type'],\n",
    "                   'width_margin': data['margin']['width'],\n",
    "                   'height_margin': data['margin']['height'],\n",
    "                   'length_margin': data['margin']['length'],\n",
    "                   'cargo_id': data['cargo_id'],\n",
    "                   'x_position': data['position']['x'],\n",
    "                   'y_position': data['position']['y'],\n",
    "                   'z_position': data['position']['z'],\n",
    "                   'stacking': data['stacking'],\n",
    "                   'turnover': data['turnover'],\n",
    "                   'rotation_state': data['rotation_state'],\n",
    "                   'stacking_limit': data['stacking_limit'],\n",
    "                    'width_calculated_size': data['calculated_size']['width'],\n",
    "                    'height_calculated_size': data['calculated_size']['height'],\n",
    "                    'length_calculated_size': data['calculated_size']['length'], \n",
    "                    'virtual_positions': data['virtual_positions']}, index=[0])\n",
    "        boxes = pd.concat([boxes,atom_df], axis=0).reset_index(drop=True)\n",
    "    all_boxes = pd.concat([all_boxes, boxes],axis=0)    "
   ]
  },
  {
   "cell_type": "code",
   "execution_count": 44,
   "id": "07de43c9",
   "metadata": {},
   "outputs": [
    {
     "name": "stdout",
     "output_type": "stream",
     "text": [
      "<class 'pandas.core.frame.DataFrame'>\n",
      "Int64Index: 74994 entries, 0 to 9\n",
      "Data columns (total 27 columns):\n",
      " #   Column                  Non-Null Count  Dtype  \n",
      "---  ------                  --------------  -----  \n",
      " 0   id                      74994 non-null  int64  \n",
      " 1   color                   74994 non-null  object \n",
      " 2   title                   74994 non-null  object \n",
      " 3   article                 74994 non-null  object \n",
      " 4   group_id                74994 non-null  object \n",
      " 5   group_title             74994 non-null  object \n",
      " 6   mass                    74994 non-null  float64\n",
      " 7   width                   74994 non-null  float64\n",
      " 8   height                  74994 non-null  float64\n",
      " 9   length                  74994 non-null  float64\n",
      " 10  sort                    74994 non-null  int64  \n",
      " 11  type                    74994 non-null  object \n",
      " 12  width_margin            74994 non-null  float64\n",
      " 13  height_margin           74994 non-null  float64\n",
      " 14  length_margin           74994 non-null  float64\n",
      " 15  cargo_id                74994 non-null  object \n",
      " 16  x_position              74994 non-null  float64\n",
      " 17  y_position              74994 non-null  float64\n",
      " 18  z_position              74994 non-null  float64\n",
      " 19  stacking                74994 non-null  bool   \n",
      " 20  turnover                74994 non-null  bool   \n",
      " 21  rotation_state          74994 non-null  int64  \n",
      " 22  stacking_limit          74994 non-null  float64\n",
      " 23  width_calculated_size   74994 non-null  float64\n",
      " 24  height_calculated_size  74994 non-null  float64\n",
      " 25  length_calculated_size  74994 non-null  float64\n",
      " 26  virtual_positions       0 non-null      object \n",
      "dtypes: bool(2), float64(14), int64(3), object(8)\n",
      "memory usage: 15.0+ MB\n"
     ]
    }
   ],
   "source": [
    "all_boxes.info()"
   ]
  },
  {
   "cell_type": "code",
   "execution_count": 46,
   "id": "93e5bcb2",
   "metadata": {},
   "outputs": [],
   "source": [
    "all_boxes.to_csv('data_result_boxes.csv', index=False)"
   ]
  },
  {
   "cell_type": "markdown",
   "id": "7a5d19cd",
   "metadata": {},
   "source": [
    "#### column:data_result, index:cargo_groups\n"
   ]
  },
  {
   "cell_type": "code",
   "execution_count": null,
   "id": "83674bf7",
   "metadata": {},
   "outputs": [],
   "source": [
    "all_cargo_groups = pd.DataFrame()\n",
    "for f in tqdm_notebook(range(len(files))):\n",
    "    if f in ex_list:\n",
    "        continue\n",
    "    df = pd.read_json('/home/yuriy/Projects/MIPT/Hakaton/ALGORITM/'+ files[f])\n",
    "    length = len(df[df.index =='cargo_groups'].values[0][1])\n",
    "    cargo_groups = pd.DataFrame()\n",
    "    for i in tqdm_notebook(range(length)):\n",
    "        data = df[df.index =='cargo_groups'].values[0][1][i]\n",
    "        atom_df = pd.DataFrame({\n",
    "                   \n",
    "                   'color': data['info']['color'],\n",
    "                   'title': data['info']['title'],\n",
    "                   'article': data['info']['article'],\n",
    "                   'group_id': data['info']['group_id'],\n",
    "                   'group_title': data['info']['group_title'],\n",
    "                   'mass': data['mass'],\n",
    "                   'width': data['size']['width'],\n",
    "                   'height': data['size']['height'],\n",
    "                   'length': data['size']['length'],\n",
    "                   'sort': data['sort'],\n",
    "                   'type': data['type'],\n",
    "                   'count': data['count'],\n",
    "                   'width_margin': data['margin']['width'],\n",
    "                   'height_margin': data['margin']['height'],\n",
    "                   'length_margin': data['margin']['length'],\n",
    "                   'cargo_id': data['cargo_id'],\n",
    "                   'stacking': data['stacking'],\n",
    "                   'turnover': data['turnover'],\n",
    "                   'stacking_limit': data['stacking_limit'],\n",
    "                   'prepare_last_result': data['prepare_last_result']}, index=[0])\n",
    "        cargo_groups  = pd.concat([cargo_groups,atom_df], axis=0).reset_index(drop=True)\n",
    "    all_cargo_groups = pd.concat([all_cargo_groups, cargo_groups],axis=0).reset_index(drop=True)    "
   ]
  },
  {
   "cell_type": "code",
   "execution_count": 47,
   "id": "cd7d871b",
   "metadata": {},
   "outputs": [
    {
     "name": "stdout",
     "output_type": "stream",
     "text": [
      "<class 'pandas.core.frame.DataFrame'>\n",
      "RangeIndex: 3056 entries, 0 to 3055\n",
      "Data columns (total 20 columns):\n",
      " #   Column               Non-Null Count  Dtype  \n",
      "---  ------               --------------  -----  \n",
      " 0   color                3056 non-null   object \n",
      " 1   title                3056 non-null   object \n",
      " 2   article              3056 non-null   object \n",
      " 3   group_id             3056 non-null   object \n",
      " 4   group_title          3056 non-null   object \n",
      " 5   mass                 3056 non-null   float64\n",
      " 6   width                3056 non-null   float64\n",
      " 7   height               3056 non-null   float64\n",
      " 8   length               3056 non-null   float64\n",
      " 9   sort                 3056 non-null   int64  \n",
      " 10  type                 3056 non-null   object \n",
      " 11  count                3056 non-null   float64\n",
      " 12  width_margin         3056 non-null   float64\n",
      " 13  height_margin        3056 non-null   float64\n",
      " 14  length_margin        3056 non-null   float64\n",
      " 15  cargo_id             3056 non-null   object \n",
      " 16  stacking             3056 non-null   bool   \n",
      " 17  turnover             3056 non-null   bool   \n",
      " 18  stacking_limit       3056 non-null   float64\n",
      " 19  prepare_last_result  3056 non-null   object \n",
      "dtypes: bool(2), float64(9), int64(1), object(8)\n",
      "memory usage: 435.8+ KB\n"
     ]
    }
   ],
   "source": [
    "all_cargo_groups.info()"
   ]
  },
  {
   "cell_type": "code",
   "execution_count": 48,
   "id": "d5ccde6a",
   "metadata": {},
   "outputs": [],
   "source": [
    "all_cargo_groups.to_csv('data_result_cargo_groups.csv', index=False)"
   ]
  }
 ],
 "metadata": {
  "kernelspec": {
   "display_name": "Python 3 (ipykernel)",
   "language": "python",
   "name": "python3"
  },
  "language_info": {
   "codemirror_mode": {
    "name": "ipython",
    "version": 3
   },
   "file_extension": ".py",
   "mimetype": "text/x-python",
   "name": "python",
   "nbconvert_exporter": "python",
   "pygments_lexer": "ipython3",
   "version": "3.9.0"
  }
 },
 "nbformat": 4,
 "nbformat_minor": 5
}
